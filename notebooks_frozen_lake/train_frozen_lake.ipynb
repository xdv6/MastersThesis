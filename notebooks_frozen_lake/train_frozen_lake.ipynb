{
 "cells": [
  {
   "cell_type": "code",
   "execution_count": 1,
   "metadata": {},
   "outputs": [],
   "source": [
    "%matplotlib inline"
   ]
  },
  {
   "cell_type": "code",
   "execution_count": 2,
   "metadata": {},
   "outputs": [],
   "source": [
    "# import subprocess\n",
    "# import sys\n",
    "\n",
    "# def install(package):\n",
    "#     subprocess.check_call([sys.executable, \"-m\", \"pip\", \"install\", package])\n",
    "    \n",
    "# install(\"pygame\")\n",
    "# install(\"wandb\")\n",
    "# install(\"gym\")\n"
   ]
  },
  {
   "cell_type": "code",
   "execution_count": 2,
   "metadata": {},
   "outputs": [
    {
     "data": {
      "text/plain": [
       "'0.26.2'"
      ]
     },
     "execution_count": 2,
     "metadata": {},
     "output_type": "execute_result"
    }
   ],
   "source": [
    "import os\n",
    "import gym\n",
    "import math\n",
    "import random\n",
    "import numpy as np\n",
    "from collections import namedtuple\n",
    "from itertools import count\n",
    "from PIL import Image\n",
    "import torch\n",
    "import torch.nn as nn\n",
    "import torch.optim as optim\n",
    "import torch.nn.functional as F\n",
    "import torchvision.transforms as T\n",
    "import pkg_resources\n",
    "import time\n",
    "\n",
    "import matplotlib.pyplot as plt\n",
    "\n",
    "\n",
    "pkg_resources.get_distribution(\"gym\").version\n",
    "\n",
    "\n",
    "\n",
    "\n"
   ]
  },
  {
   "cell_type": "code",
   "execution_count": 3,
   "metadata": {},
   "outputs": [],
   "source": [
    "# hyperparameters\n",
    "\n",
    "config =  {\n",
    "    \n",
    "    \"BATCH_SIZE\":128,\n",
    "    \"GAMMA\" : 0.999,\n",
    "    \"EPS_START\": 1,\n",
    "    \"EPS_END\" : 0.05,\n",
    "    \"EPS_DECAY\" : 5000,\n",
    "    \"TARGET_UPDATE\" : 10,\n",
    "    \"lr\":0.001, \n",
    "    \"weight_decay\":1e-5,\n",
    "    \"REPLAY_BUFFER\":10000,\n",
    "    'EPISODES': 10000,\n",
    "}\n",
    "\n"
   ]
  },
  {
   "cell_type": "code",
   "execution_count": 5,
   "metadata": {},
   "outputs": [],
   "source": [
    "# import wandb\n",
    "\n",
    "# run = wandb.init(project=\"frozen_lake_random_map\", entity=\"xdvisch\", config=config)\n"
   ]
  },
  {
   "cell_type": "code",
   "execution_count": 4,
   "metadata": {},
   "outputs": [
    {
     "name": "stderr",
     "output_type": "stream",
     "text": [
      "C:\\Users\\xande\\AppData\\Local\\Temp\\ipykernel_9768\\2475927586.py:8: DeprecationWarning: CUBIC is deprecated and will be removed in Pillow 10 (2023-07-01). Use Resampling.BICUBIC instead.\n",
      "  T.Resize(40, interpolation=Image.CUBIC),\n",
      "c:\\Users\\xande\\AppData\\Local\\Programs\\Python\\Python310\\lib\\site-packages\\torchvision\\transforms\\transforms.py:332: UserWarning: Argument 'interpolation' of type int is deprecated since 0.13 and will be removed in 0.15. Please use InterpolationMode enum.\n",
      "  warnings.warn(\n"
     ]
    },
    {
     "data": {
      "text/plain": [
       "device(type='cuda')"
      ]
     },
     "execution_count": 4,
     "metadata": {},
     "output_type": "execute_result"
    }
   ],
   "source": [
    "\n",
    "device = torch.device(\"cuda\" if torch.cuda.is_available() else \"cpu\")\n",
    "\n",
    "env = gym.make('FrozenLake-v1', desc=None, map_name=\"4x4\", is_slippery=False, render_mode=\"rgb_array\").unwrapped\n",
    "\n",
    "\n",
    "\n",
    "resize = T.Compose([T.ToPILImage(),\n",
    "                    T.Resize(40, interpolation=Image.CUBIC),\n",
    "                    T.ToTensor()])\n",
    "\n",
    "\n",
    "device"
   ]
  },
  {
   "cell_type": "markdown",
   "metadata": {},
   "source": [
    "### steps\n",
    "```text\n",
    "    - 0: LEFT\n",
    "    - 1: DOWN\n",
    "    - 2: RIGHT\n",
    "    - 3: UP\n",
    "```"
   ]
  },
  {
   "cell_type": "code",
   "execution_count": 19,
   "metadata": {},
   "outputs": [
    {
     "name": "stdout",
     "output_type": "stream",
     "text": [
      "start_scherm_boven:0\n",
      "(3, 128, 128)\n"
     ]
    },
    {
     "data": {
      "image/png": "[encoded data removed]",
      "text/plain": [
       "<Figure size 640x480 with 1 Axes>"
      ]
     },
     "metadata": {},
     "output_type": "display_data"
    }
   ],
   "source": [
    "env.reset()\n",
    "# env.step(1)\n",
    "\n",
    "# eerste parameter dat step teruggeeft is position\n",
    "# print(env.step(1))\n",
    "# position_agent, reward, done, _, _ = env.step(2)\n",
    "# env.step(2)\n",
    "\n",
    "\n",
    "def get_screen():\n",
    "    screen = env.render().transpose((2, 0, 1))  # transpose into torch order (CHW)\n",
    "    _, screen_height, screen_width = screen.shape\n",
    "\n",
    "    row = env.s // env.nrow\n",
    "    col = env.s % env.ncol\n",
    "\n",
    "    if col == 0:\n",
    "        start_scherm_links = 0\n",
    "        # +2 want pos is zogezegd streep links van agent\n",
    "        start_scherm_rechts = int(col*screen_width/env.ncol + 2 *(screen_width/env.ncol))\n",
    "        slice_range_width = slice(start_scherm_links, start_scherm_rechts)\n",
    "        screen = screen[:,:, slice_range_width]\n",
    "    \n",
    "    if row == 0:\n",
    "        start_scherm_boven = 0\n",
    "        # +2 want pos is zogezegd streep boven agent\n",
    "        start_scherm_onder = int(row*screen_height/env.nrow + 2 *(screen_height/env.nrow))\n",
    "        slice_range_heigth = slice(start_scherm_boven, start_scherm_onder)\n",
    "        print(f\"start_scherm_boven:{start_scherm_boven}\")\n",
    "        screen = screen[:, slice_range_heigth]\n",
    "    print(screen.shape)\n",
    "\n",
    "    npad = ((0, 0), (50, 1), (1, 1))\n",
    "    screen = np.pad(screen, pad_width=npad, mode='constant', constant_values=0)    \n",
    "\n",
    "    # start_scherm_links = int(col*screen_width/env.ncol - screen_width/env.ncol)\n",
    "    # # +2 want pos is zogezegd streep links van agent\n",
    "    # start_scherm_rechts = int(col*screen_width/env.ncol + 2 *(screen_width/env.ncol))\n",
    "    # slice_range_width = slice(start_scherm_links, start_scherm_rechts)\n",
    "    # screen = screen[:,:, slice_range_width]\n",
    "\n",
    "    # start_scherm_boven = int(row*screen_height/env.nrow - screen_height/env.nrow)\n",
    "    # # +2 want pos is zogezegd streep boven agent\n",
    "    # start_scherm_onder = int(row*screen_height/env.nrow + 2 *(screen_height/env.nrow))\n",
    "    # slice_range_heigth = slice(start_scherm_boven, start_scherm_onder)\n",
    "    # print(f\"start_scherm_boven:{start_scherm_boven}\")\n",
    "    # screen = screen[:, slice_range_heigth]\n",
    "\n",
    "    # Convert to float, rescare, convert to torch tensor (this doesn't require a copy)\n",
    "    screen = np.ascontiguousarray(screen, dtype=np.float32) / 255\n",
    "    screen = torch.from_numpy(screen)\n",
    "    # Resize, and add a batch dimension (BCHW)\n",
    "    return resize(screen).unsqueeze(0).to(device)\n",
    "\n",
    "\n",
    "plt.figure()\n",
    "plt.imshow(get_screen().cpu().squeeze(0).permute(1, 2, 0).numpy(),\n",
    "           interpolation='none')\n",
    "plt.title('Example extracted screen')\n",
    "plt.show()\n"
   ]
  },
  {
   "cell_type": "code",
   "execution_count": 8,
   "metadata": {},
   "outputs": [],
   "source": [
    "Transition = namedtuple('Transition', ('state', 'action', 'next_state', 'reward'))\n",
    "\n",
    "class ReplayMemory(object):\n",
    "\n",
    "    def __init__(self, capacity):\n",
    "        self.capacity = capacity\n",
    "        \n",
    "        self.memory = []\n",
    "        self.position = 0\n",
    "\n",
    "    def push(self, *args):\n",
    "        if len(self.memory) < self.capacity:\n",
    "            self.memory.append(None)\n",
    "        self.memory[self.position] = Transition(*args)\n",
    "        self.position = (self.position + 1) % self.capacity\n",
    "\n",
    "    def sample(self, batch_size):\n",
    "        return random.sample(self.memory, batch_size)\n",
    "\n",
    "    def __len__(self):\n",
    "        return len(self.memory)\n",
    "\n",
    "\n",
    "class DQN(nn.Module):\n",
    "\n",
    "    def __init__(self, h, w, outputs):\n",
    "        super(DQN, self).__init__()\n",
    "        self.conv1 = nn.Conv2d(3, 16, kernel_size=5, stride=2)\n",
    "        self.bn1 = nn.BatchNorm2d(16)\n",
    "        self.conv2 = nn.Conv2d(16, 32, kernel_size=5, stride=2)\n",
    "        self.bn2 = nn.BatchNorm2d(32)\n",
    "        self.conv3 = nn.Conv2d(32, 32, kernel_size=5, stride=2)\n",
    "        self.bn3 = nn.BatchNorm2d(32)\n",
    "\n",
    "        # Number of Linear input connections depends on output of conv2d layers\n",
    "        # and therefore the input image size, so compute it.\n",
    "        def conv2d_size_out(size, kernel_size = 5, stride = 2):\n",
    "            return (size - (kernel_size - 1) - 1) // stride  + 1\n",
    "        convw = conv2d_size_out(conv2d_size_out(conv2d_size_out(w)))\n",
    "        convh = conv2d_size_out(conv2d_size_out(conv2d_size_out(h)))\n",
    "        linear_input_size = convw * convh * 32\n",
    "        self.head = nn.Linear(linear_input_size, outputs)\n",
    "\n",
    "    # Called with either one element to determine next action, or a batch\n",
    "    # during optimization. Returns tensor([[left0exp,right0exp]...]).\n",
    "    def forward(self, x):\n",
    "        x = x.to(device)\n",
    "        x = F.relu(self.bn1(self.conv1(x)))\n",
    "        x = F.relu(self.bn2(self.conv2(x)))\n",
    "        x = F.relu(self.bn3(self.conv3(x)))\n",
    "        return self.head(x.view(x.size(0), -1))"
   ]
  },
  {
   "cell_type": "code",
   "execution_count": 9,
   "metadata": {},
   "outputs": [],
   "source": [
    "steps_done = 0\n",
    "\n",
    "def select_action(state):\n",
    "    global steps_done\n",
    "    sample = random.random()\n",
    "\n",
    "\n",
    "    eps_threshold = config.get(\"EPS_END\") + (config.get(\"EPS_START\") - config.get(\"EPS_END\")) * math.exp(-1. * steps_done / config.get(\"EPS_DECAY\"))\n",
    "\n",
    "\n",
    "    # wandb.log({\"eps_threshold\": eps_threshold})\n",
    "    steps_done += 1\n",
    "    if sample > eps_threshold:\n",
    "        with torch.no_grad():\n",
    "            # t.max(1) will return largest column value of each row.\n",
    "            # second column on max result is index of where max element was\n",
    "            # found, so we pick action with the larger expected reward.\n",
    "            return policy_net(state).max(1)[1].view(1, 1)\n",
    "    else:\n",
    "        return torch.tensor([[random.randrange(n_actions)]], device=device, dtype=torch.long)\n",
    "\n",
    "\n",
    "\n",
    "\n",
    "def optimize_model(policy_net, optimizer, memory):\n",
    "    if len(memory) < config.get(\"BATCH_SIZE\"):\n",
    "        return\n",
    "    transitions = memory.sample( config.get(\"BATCH_SIZE\"))\n",
    "    # Transpose the batch (see http://stackoverflow.com/a/19343/3343043 for detailed explanation).\n",
    "    batch = Transition(*zip(*transitions))\n",
    "\n",
    "    # Compute a mask of non-final states and concatenate the batch elements\n",
    "    non_final_mask = torch.tensor(tuple(map(lambda s: s is not None,\n",
    "                                          batch.next_state)), device=device, dtype=torch.uint8)\n",
    "    non_final_next_states = torch.cat([s for s in batch.next_state if s is not None])\n",
    "    state_batch = torch.cat(batch.state)\n",
    "    action_batch = torch.cat(batch.action)\n",
    "    reward_batch = torch.cat(batch.reward)\n",
    "\n",
    "    # Compute Q(s_t, a) - the model computes Q(s_t), then we select the columns of actions taken\n",
    "    state_action_values = policy_net(state_batch).gather(1, action_batch)\n",
    "\n",
    "    # Compute V(s_{t+1}) for all next states.\n",
    "    next_state_values = torch.zeros( config.get(\"BATCH_SIZE\"), device=device)\n",
    "    next_state_values[non_final_mask] = policy_net(non_final_next_states).max(1)[0].detach()\n",
    "    # Compute the expected Q values\n",
    "    expected_state_action_values = ((next_state_values * config.get(\"GAMMA\") + reward_batch).unsqueeze(1))\n",
    "\n",
    "    # Compute Huber loss\n",
    "    loss = F.smooth_l1_loss(state_action_values, expected_state_action_values)\n",
    "    # wandb.log({\"loss\": loss})\n",
    "    # Optimize the model\n",
    "    optimizer.zero_grad()\n",
    "    loss.backward()\n",
    "    for param in policy_net.parameters():\n",
    "        param.grad.data.clamp_(-1, 1)\n",
    "    optimizer.step()"
   ]
  },
  {
   "cell_type": "code",
   "execution_count": 10,
   "metadata": {},
   "outputs": [],
   "source": [
    "from gym.envs.toy_text.frozen_lake import generate_random_map\n",
    "from gym.wrappers.human_rendering import HumanRendering\n",
    "\n",
    "\n",
    "# Define the custom x axis metric\n",
    "# wandb.define_metric(\"episode\")\n",
    "\n",
    "# Define which metrics to plot against that x-axis\n",
    "# wandb.define_metric(\"reward\", step_metric='episode')\n",
    "\n",
    "def trainIters(policy_net, n_iters=60):\n",
    "    optimizer = optim.Adam(policy_net.parameters(), lr=config.get(\"lr\"), weight_decay=config.get(\"weight_decay\"))\n",
    "    memory = ReplayMemory(config.get(\"REPLAY_BUFFER\"))\n",
    "    for iter in range(n_iters):\n",
    "        # Create new random layout\n",
    "        env = gym.make('FrozenLake-v1', desc=generate_random_map(size=4), is_slippery=False, render_mode=\"rgb_array\")\n",
    "        wrapped = HumanRendering(env)\n",
    "\n",
    "        # Initialize the environment and state\n",
    "        env.reset()\n",
    "        wrapped.reset()\n",
    "        \n",
    "        # 2 beelden\n",
    "        # last_screen = get_screen()\n",
    "        # current_screen = get_screen()\n",
    "        # state = current_screen - last_screen\n",
    "\n",
    "        # 1 beelden\n",
    "        state = get_screen()\n",
    "        \n",
    "        losses = []\n",
    "        spel_gelukt = 0\n",
    "\n",
    "        for t in count():\n",
    "            env.render()\n",
    "            wrapped._render_frame()\n",
    "            action = select_action(state)\n",
    "            _, reward, done, _, _ = env.step(action.item())\n",
    "            reward = torch.tensor([reward], device=device)\n",
    "\n",
    "            # 2 beelden\n",
    "            # last_screen = current_screen\n",
    "            # current_screen = get_screen()\n",
    "\n",
    "            if not done:\n",
    "                # 1 beeld\n",
    "                next_state = get_screen()\n",
    "\n",
    "                # 2 beelden\n",
    "                # next_state = current_screen - last_screen\n",
    "            else:\n",
    "                next_state = None\n",
    "\n",
    "            # Store the transition in memory\n",
    "            memory.push(state, action, next_state, reward)\n",
    "            \n",
    "            # Move to the next state\n",
    "            state = next_state\n",
    "\n",
    "            # Perform one step of the optimization (on the target network)\n",
    "            optimize_model(policy_net, optimizer, memory)\n",
    "            \n",
    "            if done:\n",
    "                if reward:\n",
    "                    spel_gelukt = 1\n",
    "                \n",
    "                log_dict = {\n",
    "                \"episode\": iter + 1,\n",
    "                \"reward\": spel_gelukt\n",
    "                }\n",
    "                # wandb.log(log_dict)\n",
    "                \n",
    "                break\n",
    "\n",
    "    \n",
    "    print('Complete')\n",
    "\n",
    "    env.render()\n",
    "    env.close()\n",
    "\n",
    "    wrapped.render()\n",
    "    wrapped.close()"
   ]
  },
  {
   "cell_type": "code",
   "execution_count": 11,
   "metadata": {},
   "outputs": [
    {
     "ename": "KeyboardInterrupt",
     "evalue": "",
     "output_type": "error",
     "traceback": [
      "\u001b[1;31m---------------------------------------------------------------------------\u001b[0m",
      "\u001b[1;31mKeyboardInterrupt\u001b[0m                         Traceback (most recent call last)",
      "\u001b[1;32md:\\master\\masterproef\\master_thesis\\repo\\masterproef\\notebooks_frozen_lake\\train_frozen_lake.ipynb Cell 11\u001b[0m in \u001b[0;36m<cell line: 1>\u001b[1;34m()\u001b[0m\n\u001b[0;32m     <a href='vscode-notebook-cell:/d%3A/master/masterproef/master_thesis/repo/masterproef/notebooks_frozen_lake/train_frozen_lake.ipynb#X13sZmlsZQ%3D%3D?line=9'>10</a>\u001b[0m n_actions \u001b[39m=\u001b[39m env\u001b[39m.\u001b[39maction_space\u001b[39m.\u001b[39mn\n\u001b[0;32m     <a href='vscode-notebook-cell:/d%3A/master/masterproef/master_thesis/repo/masterproef/notebooks_frozen_lake/train_frozen_lake.ipynb#X13sZmlsZQ%3D%3D?line=11'>12</a>\u001b[0m policy_net \u001b[39m=\u001b[39m DQN(screen_height, screen_width, n_actions)\u001b[39m.\u001b[39mto(device)\n\u001b[1;32m---> <a href='vscode-notebook-cell:/d%3A/master/masterproef/master_thesis/repo/masterproef/notebooks_frozen_lake/train_frozen_lake.ipynb#X13sZmlsZQ%3D%3D?line=12'>13</a>\u001b[0m trainIters(policy_net, n_iters\u001b[39m=\u001b[39;49mconfig\u001b[39m.\u001b[39;49mget(\u001b[39m'\u001b[39;49m\u001b[39mEPISODES\u001b[39;49m\u001b[39m'\u001b[39;49m))\n",
      "\u001b[1;32md:\\master\\masterproef\\master_thesis\\repo\\masterproef\\notebooks_frozen_lake\\train_frozen_lake.ipynb Cell 11\u001b[0m in \u001b[0;36mtrainIters\u001b[1;34m(policy_net, n_iters)\u001b[0m\n\u001b[0;32m     <a href='vscode-notebook-cell:/d%3A/master/masterproef/master_thesis/repo/masterproef/notebooks_frozen_lake/train_frozen_lake.ipynb#X13sZmlsZQ%3D%3D?line=33'>34</a>\u001b[0m \u001b[39mfor\u001b[39;00m t \u001b[39min\u001b[39;00m count():\n\u001b[0;32m     <a href='vscode-notebook-cell:/d%3A/master/masterproef/master_thesis/repo/masterproef/notebooks_frozen_lake/train_frozen_lake.ipynb#X13sZmlsZQ%3D%3D?line=34'>35</a>\u001b[0m     env\u001b[39m.\u001b[39mrender()\n\u001b[1;32m---> <a href='vscode-notebook-cell:/d%3A/master/masterproef/master_thesis/repo/masterproef/notebooks_frozen_lake/train_frozen_lake.ipynb#X13sZmlsZQ%3D%3D?line=35'>36</a>\u001b[0m     wrapped\u001b[39m.\u001b[39;49m_render_frame()\n\u001b[0;32m     <a href='vscode-notebook-cell:/d%3A/master/masterproef/master_thesis/repo/masterproef/notebooks_frozen_lake/train_frozen_lake.ipynb#X13sZmlsZQ%3D%3D?line=36'>37</a>\u001b[0m     action \u001b[39m=\u001b[39m select_action(state)\n\u001b[0;32m     <a href='vscode-notebook-cell:/d%3A/master/masterproef/master_thesis/repo/masterproef/notebooks_frozen_lake/train_frozen_lake.ipynb#X13sZmlsZQ%3D%3D?line=37'>38</a>\u001b[0m     _, reward, done, _, _ \u001b[39m=\u001b[39m env\u001b[39m.\u001b[39mstep(action\u001b[39m.\u001b[39mitem())\n",
      "File \u001b[1;32mc:\\Users\\xande\\AppData\\Local\\Programs\\Python\\Python310\\lib\\site-packages\\gym\\wrappers\\human_rendering.py:122\u001b[0m, in \u001b[0;36mHumanRendering._render_frame\u001b[1;34m(self)\u001b[0m\n\u001b[0;32m    120\u001b[0m \u001b[39mself\u001b[39m\u001b[39m.\u001b[39mwindow\u001b[39m.\u001b[39mblit(surf, (\u001b[39m0\u001b[39m, \u001b[39m0\u001b[39m))\n\u001b[0;32m    121\u001b[0m pygame\u001b[39m.\u001b[39mevent\u001b[39m.\u001b[39mpump()\n\u001b[1;32m--> 122\u001b[0m \u001b[39mself\u001b[39;49m\u001b[39m.\u001b[39;49mclock\u001b[39m.\u001b[39;49mtick(\u001b[39mself\u001b[39;49m\u001b[39m.\u001b[39;49mmetadata[\u001b[39m\"\u001b[39;49m\u001b[39mrender_fps\u001b[39;49m\u001b[39m\"\u001b[39;49m])\n\u001b[0;32m    123\u001b[0m pygame\u001b[39m.\u001b[39mdisplay\u001b[39m.\u001b[39mflip()\n",
      "\u001b[1;31mKeyboardInterrupt\u001b[0m: "
     ]
    },
    {
     "ename": "",
     "evalue": "",
     "output_type": "error",
     "traceback": [
      "\u001b[1;31mThe Kernel crashed while executing code in the the current cell or a previous cell. Please review the code in the cell(s) to identify a possible cause of the failure. Click <a href='https://aka.ms/vscodeJupyterKernelCrash'>here</a> for more info. View Jupyter <a href='command:jupyter.viewOutput'>log</a> for further details."
     ]
    }
   ],
   "source": [
    "if __name__ == \"__main__\":\n",
    "\n",
    "    # Get screen size so that we can initialize layers correctly based on shape\n",
    "    # returned from AI gym. Typical dimensions at this point are close to 3x40x90\n",
    "    # which is the result of a clamped and down-scaled render buffer in get_screen()\n",
    "    init_screen = get_screen()\n",
    "    _, _, screen_height, screen_width = init_screen.shape\n",
    "\n",
    "    # Get number of actions from gym action space\n",
    "    n_actions = env.action_space.n\n",
    "\n",
    "    policy_net = DQN(screen_height, screen_width, n_actions).to(device)\n",
    "    trainIters(policy_net, n_iters=config.get('EPISODES'))"
   ]
  },
  {
   "cell_type": "code",
   "execution_count": null,
   "metadata": {},
   "outputs": [],
   "source": [
    "torch.save(policy_net, 'model/' + run.name + '_policy_net_frozen_lake.pkl')"
   ]
  }
 ],
 "metadata": {
  "kernelspec": {
   "display_name": "Python 3 (ipykernel)",
   "language": "python",
   "name": "python3"
  },
  "language_info": {
   "codemirror_mode": {
    "name": "ipython",
    "version": 3
   },
   "file_extension": ".py",
   "mimetype": "text/x-python",
   "name": "python",
   "nbconvert_exporter": "python",
   "pygments_lexer": "ipython3",
   "version": "3.10.6"
  },
  "vscode": {
   "interpreter": {
    "hash": "b15ee443de15a7c7a9e59449ab0d06bb25873493c1d52931efe00f2e6ab94104"
   }
  }
 },
 "nbformat": 4,
 "nbformat_minor": 4
}
