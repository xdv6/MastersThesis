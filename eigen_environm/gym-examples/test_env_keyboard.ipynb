{
 "cells": [
  {
   "cell_type": "code",
   "execution_count": 1,
   "metadata": {},
   "outputs": [],
   "source": [
    "import gym\n",
    "import gym_game\n",
    "import pygame\n",
    "import matplotlib.pyplot as plt\n",
    "from gym.utils.play import play\n",
    "from gym.utils.play import PlayPlot"
   ]
  },
  {
   "attachments": {},
   "cell_type": "markdown",
   "metadata": {},
   "source": [
    "### sanity check om te kijken of environment in orde is\n",
    "Indien geen exceptie opgegooid wordt, is alles volgens plan\n",
    "(enkel runnen eerste keer na aanpassing aan environment)"
   ]
  },
  {
   "cell_type": "code",
   "execution_count": 4,
   "metadata": {},
   "outputs": [
    {
     "ename": "",
     "evalue": "",
     "output_type": "error",
     "traceback": [
      "\u001b[1;31mThe Kernel crashed while executing code in the the current cell or a previous cell. Please review the code in the cell(s) to identify a possible cause of the failure. Click <a href='https://aka.ms/vscodeJupyterKernelCrash'>here</a> for more info. View Jupyter <a href='command:jupyter.viewOutput'>log</a> for further details."
     ]
    }
   ],
   "source": [
    "# from gym.utils.env_checker import check_env\n",
    "# check_env(env.unwrapped)"
   ]
  },
  {
   "cell_type": "code",
   "execution_count": 2,
   "metadata": {},
   "outputs": [
    {
     "data": {
      "text/plain": [
       "<matplotlib.image.AxesImage at 0x1fa11d239d0>"
      ]
     },
     "execution_count": 2,
     "metadata": {},
     "output_type": "execute_result"
    },
    {
     "data": {
      "image/png": "[encoded data removed]",
      "text/plain": [
       "<Figure size 640x480 with 1 Axes>"
      ]
     },
     "metadata": {},
     "output_type": "display_data"
    },
    {
     "data": {
      "image/png": "[encoded data removed]",
      "text/plain": [
       "<Figure size 640x480 with 1 Axes>"
      ]
     },
     "metadata": {},
     "output_type": "display_data"
    }
   ],
   "source": [
    "%matplotlib inline\n",
    "\n",
    "env = gym.make(\"GridWorld-v0\", render_mode=\"rgb_array\")\n",
    "env.reset()\n",
    "screen = env.render()\n",
    "action = 0\n",
    "_, reward, done, _, _ = env.step(action)\n",
    "screen2 = env.render()\n",
    "_, reward, done, _, _ = env.step(action)\n",
    "env.close()\n",
    "\n",
    "plt.figure()\n",
    "plt.axis('off')\n",
    "plt.imshow(screen)\n",
    "\n",
    "\n",
    "plt.figure()\n",
    "plt.axis('off')\n",
    "plt.imshow(screen2)\n"
   ]
  },
  {
   "cell_type": "code",
   "execution_count": 2,
   "metadata": {},
   "outputs": [
    {
     "ename": "NameError",
     "evalue": "name 'env' is not defined",
     "output_type": "error",
     "traceback": [
      "\u001b[1;31m---------------------------------------------------------------------------\u001b[0m",
      "\u001b[1;31mNameError\u001b[0m                                 Traceback (most recent call last)",
      "\u001b[1;32md:\\master\\masterproef\\master_thesis\\repo\\masterproef\\eigen_environm\\gym-examples\\test_env_keyboard.ipynb Cell 5\u001b[0m in \u001b[0;36m<cell line: 4>\u001b[1;34m()\u001b[0m\n\u001b[0;32m      <a href='vscode-notebook-cell:/d%3A/master/masterproef/master_thesis/repo/masterproef/eigen_environm/gym-examples/test_env_keyboard.ipynb#W4sZmlsZQ%3D%3D?line=0'>1</a>\u001b[0m \u001b[39m# 0: right, 1: down, 2: left and 3: up\u001b[39;00m\n\u001b[0;32m      <a href='vscode-notebook-cell:/d%3A/master/masterproef/master_thesis/repo/masterproef/eigen_environm/gym-examples/test_env_keyboard.ipynb#W4sZmlsZQ%3D%3D?line=1'>2</a>\u001b[0m \u001b[39m# env.reset()\u001b[39;00m\n\u001b[0;32m      <a href='vscode-notebook-cell:/d%3A/master/masterproef/master_thesis/repo/masterproef/eigen_environm/gym-examples/test_env_keyboard.ipynb#W4sZmlsZQ%3D%3D?line=2'>3</a>\u001b[0m action \u001b[39m=\u001b[39m \u001b[39m3\u001b[39m\n\u001b[1;32m----> <a href='vscode-notebook-cell:/d%3A/master/masterproef/master_thesis/repo/masterproef/eigen_environm/gym-examples/test_env_keyboard.ipynb#W4sZmlsZQ%3D%3D?line=3'>4</a>\u001b[0m _, reward, done, _, _ \u001b[39m=\u001b[39m env\u001b[39m.\u001b[39mstep(action)\n\u001b[0;32m      <a href='vscode-notebook-cell:/d%3A/master/masterproef/master_thesis/repo/masterproef/eigen_environm/gym-examples/test_env_keyboard.ipynb#W4sZmlsZQ%3D%3D?line=4'>5</a>\u001b[0m \u001b[39mprint\u001b[39m(reward)\n\u001b[0;32m      <a href='vscode-notebook-cell:/d%3A/master/masterproef/master_thesis/repo/masterproef/eigen_environm/gym-examples/test_env_keyboard.ipynb#W4sZmlsZQ%3D%3D?line=5'>6</a>\u001b[0m screen2 \u001b[39m=\u001b[39m env\u001b[39m.\u001b[39mrender()\n",
      "\u001b[1;31mNameError\u001b[0m: name 'env' is not defined"
     ]
    }
   ],
   "source": [
    "# 0: right, 1: down, 2: left and 3: up\n",
    "# env.reset()\n",
    "action = 3\n",
    "_, reward, done, _, _ = env.step(action)\n",
    "print(reward)\n",
    "screen2 = env.render()\n",
    "\n",
    "plt.figure()\n",
    "plt.axis('off')\n",
    "plt.imshow(screen2)"
   ]
  },
  {
   "attachments": {},
   "cell_type": "markdown",
   "metadata": {},
   "source": [
    "### Environment testen met keyboard\n",
    "zet noop aan"
   ]
  },
  {
   "cell_type": "code",
   "execution_count": 3,
   "metadata": {},
   "outputs": [
    {
     "name": "stderr",
     "output_type": "stream",
     "text": [
      "c:\\Users\\xande\\AppData\\Local\\Programs\\Python\\Python310\\lib\\site-packages\\gym\\utils\\play.py:322: DeprecationWarning: \u001b[33mWARN: `PlayPlot` is marked as deprecated and will be removed in the near future.\u001b[0m\n",
      "  deprecation(\n"
     ]
    }
   ],
   "source": [
    "def callback(obs_t, obs_tp1, action, rew, terminated, truncated, info):\n",
    "      return [rew,]\n",
    "plotter = PlayPlot(callback, 150, [\"reward\"])\n",
    "\n",
    "mapping = {(pygame.K_RIGHT,): 0, (pygame.K_DOWN,): 1, (pygame.K_LEFT,): 2, (pygame.K_UP,): 3}\n",
    "play(gym.make(\"GridWorld-v0\", render_mode=\"rgb_array\"), keys_to_action=mapping, noop=4, callback=plotter.callback)"
   ]
  },
  {
   "cell_type": "code",
   "execution_count": 4,
   "metadata": {},
   "outputs": [
    {
     "data": {
      "text/plain": [
       "<matplotlib.image.AxesImage at 0x29b979d40a0>"
      ]
     },
     "execution_count": 4,
     "metadata": {},
     "output_type": "execute_result"
    },
    {
     "ename": "",
     "evalue": "",
     "output_type": "error",
     "traceback": [
      "\u001b[1;31mThe Kernel crashed while executing code in the the current cell or a previous cell. Please review the code in the cell(s) to identify a possible cause of the failure. Click <a href='https://aka.ms/vscodeJupyterKernelCrash'>here</a> for more info. View Jupyter <a href='command:jupyter.viewOutput'>log</a> for further details."
     ]
    }
   ],
   "source": [
    "import cv2\n",
    "screen = cv2.imread(\"./straat_v2.png\")\n",
    "\n",
    "plt.figure()\n",
    "plt.axis('off')\n",
    "plt.imshow(screen)\n"
   ]
  }
 ],
 "metadata": {
  "kernelspec": {
   "display_name": "Python 3",
   "language": "python",
   "name": "python3"
  },
  "language_info": {
   "codemirror_mode": {
    "name": "ipython",
    "version": 3
   },
   "file_extension": ".py",
   "mimetype": "text/x-python",
   "name": "python",
   "nbconvert_exporter": "python",
   "pygments_lexer": "ipython3",
   "version": "3.10.6"
  },
  "orig_nbformat": 4
 },
 "nbformat": 4,
 "nbformat_minor": 2
}
