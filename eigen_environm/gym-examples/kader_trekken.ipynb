{
 "cells": [
  {
   "cell_type": "code",
   "execution_count": 2,
   "metadata": {},
   "outputs": [],
   "source": [
    "import cv2 \n"
   ]
  },
  {
   "cell_type": "code",
   "execution_count": null,
   "metadata": {},
   "outputs": [],
   "source": [
    "\n",
    "\n",
    "# Load the image\n",
    "img = cv2.imread('map.png')\n",
    "\n",
    "# Display the image\n",
    "cv2.imshow('image', img)\n",
    "\n",
    "# Define a callback function to handle mouse events\n",
    "def draw_rect(event, x, y, flags, param):\n",
    "    global ix, iy, drawing, img\n",
    "    print(f\"x: {x} en y:{y}\")\n",
    "    if event == cv2.EVENT_LBUTTONDOWN:\n",
    "        drawing = True\n",
    "        ix, iy = x, y\n",
    "    elif event == cv2.EVENT_LBUTTONUP:\n",
    "        drawing = False\n",
    "        cv2.rectangle(img, (ix, iy), (x, y), (255, 255, 255), 2)\n",
    "        for i in range(iy, y):\n",
    "            for j in range(ix, x):\n",
    "                img[i, j] = [255, 255, 255]\n",
    "        cv2.imshow('image', img)\n",
    "        # cv2.imwrite(\"map_v2.png\", img)\n",
    "\n",
    "# Set the mouse callback function\n",
    "cv2.setMouseCallback('image', draw_rect)\n",
    "\n",
    "# Wait for a key press to exit\n",
    "cv2.waitKey(0)\n",
    "\n",
    "# Clean up\n",
    "cv2.destroyAllWindows()\n"
   ]
  }
 ],
 "metadata": {
  "kernelspec": {
   "display_name": "Python 3",
   "language": "python",
   "name": "python3"
  },
  "language_info": {
   "codemirror_mode": {
    "name": "ipython",
    "version": 3
   },
   "file_extension": ".py",
   "mimetype": "text/x-python",
   "name": "python",
   "nbconvert_exporter": "python",
   "pygments_lexer": "ipython3",
   "version": "3.10.6"
  },
  "orig_nbformat": 4
 },
 "nbformat": 4,
 "nbformat_minor": 2
}
