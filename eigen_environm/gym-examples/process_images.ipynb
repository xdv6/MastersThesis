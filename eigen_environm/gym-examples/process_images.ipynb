{
 "cells": [
  {
   "attachments": {},
   "cell_type": "markdown",
   "metadata": {},
   "source": [
    "### Hulp Notebook om objecten op map.png te zetten, kleurwaarden te analyseren en afbeelding te evalueren"
   ]
  },
  {
   "cell_type": "code",
   "execution_count": 2,
   "metadata": {},
   "outputs": [],
   "source": [
    "import cv2 \n",
    "import numpy as np"
   ]
  },
  {
   "cell_type": "code",
   "execution_count": 4,
   "metadata": {},
   "outputs": [],
   "source": [
    "def to_screen(name, file):\n",
    "    cv2.imshow(name, file)  \n",
    "    cv2.waitKey(0)\n",
    "    cv2.destroyAllWindows()  "
   ]
  },
  {
   "attachments": {},
   "cell_type": "markdown",
   "metadata": {},
   "source": [
    "### objecten op map plaatsen met behulp van muis"
   ]
  },
  {
   "cell_type": "code",
   "execution_count": 7,
   "metadata": {},
   "outputs": [],
   "source": [
    "\n",
    "\n",
    "# Load the image\n",
    "img = cv2.imread('straat_v3.png')\n",
    "\n",
    "# Display the image\n",
    "cv2.imshow('image', img)\n",
    "\n",
    "# Define a callback function to handle mouse events\n",
    "def draw_rect(event, x, y, flags, param):\n",
    "    global ix, iy, drawing, img\n",
    "    # print(f\"x: {x} en y:{y}\")\n",
    "    if event == cv2.EVENT_LBUTTONDOWN:\n",
    "        drawing = True\n",
    "        ix, iy = x, y\n",
    "    elif event == cv2.EVENT_LBUTTONUP:\n",
    "        drawing = False\n",
    "        cv2.rectangle(img, (ix, iy), (x, y), (255, 255, 255), 2)\n",
    "        for i in range(iy, y):\n",
    "            for j in range(ix, x):\n",
    "                img[i, j] = [255, 255, 255]\n",
    "        cv2.imshow('image', img)\n",
    "        cv2.imwrite(\"straat_v4.png\", img)\n",
    "\n",
    "# Set the mouse callback function\n",
    "cv2.setMouseCallback('image', draw_rect)\n",
    "\n",
    "# Wait for a key press to exit\n",
    "cv2.waitKey(0)\n",
    "\n",
    "# Clean up\n",
    "cv2.destroyAllWindows()\n"
   ]
  },
  {
   "attachments": {},
   "cell_type": "markdown",
   "metadata": {},
   "source": [
    "### BGR grijswaarde van track vinden"
   ]
  },
  {
   "cell_type": "code",
   "execution_count": 4,
   "metadata": {},
   "outputs": [
    {
     "name": "stdout",
     "output_type": "stream",
     "text": [
      "[ 97 106 100]\n",
      "[ 97 106 100]\n"
     ]
    }
   ],
   "source": [
    "# Load the image\n",
    "img = cv2.imread('map.png')\n",
    "\n",
    "img_black = img[img < (100, 100,100)]\n",
    "\n",
    "# punten op track\n",
    "print(img[681, 876])\n",
    "print(img[682, 877])"
   ]
  },
  {
   "attachments": {},
   "cell_type": "markdown",
   "metadata": {},
   "source": [
    "### alle unieke pixelwaarden in map vinden\n",
    "At first, we flatten rows and columns of matrix. Now the matrix has as much rows as there're pixels in the image. Columns are color components of each pixels."
   ]
  },
  {
   "cell_type": "code",
   "execution_count": null,
   "metadata": {},
   "outputs": [],
   "source": [
    "# print(img)\n",
    "map2 = cv2.imread(\"map_v2.png\")\n",
    "\n",
    "unieke_kleuren = np.unique(map2.reshape(-1, img.shape[2]), axis=0)\n",
    "unieke_kleuren\n",
    "\n",
    "for i in range(unieke_kleuren.shape[0]):\n",
    "    # for j in range(unieke_kleuren.shape[1]):\n",
    "        print(unieke_kleuren[i])\n",
    "\n"
   ]
  },
  {
   "attachments": {},
   "cell_type": "markdown",
   "metadata": {},
   "source": [
    "### pixels wit maken"
   ]
  },
  {
   "cell_type": "code",
   "execution_count": 15,
   "metadata": {},
   "outputs": [
    {
     "data": {
      "text/plain": [
       "True"
      ]
     },
     "execution_count": 15,
     "metadata": {},
     "output_type": "execute_result"
    }
   ],
   "source": [
    "straat_v3 = cv2.imread(\"straat_v3.png\")\n",
    "\n",
    "\n",
    "straat_v3[:, :27] = 255\n",
    "\n",
    "# Display the image\n",
    "cv2.imshow('image', straat_v3)\n",
    "\n",
    "# Wait for a key press to exit\n",
    "cv2.waitKey(0)\n",
    "\n",
    "# Clean up\n",
    "cv2.destroyAllWindows()\n",
    "\n",
    "cv2.imwrite(\"straat_v4.png\", straat_v3)"
   ]
  },
  {
   "attachments": {},
   "cell_type": "markdown",
   "metadata": {},
   "source": [
    "### padden met wit langs rechts\n"
   ]
  },
  {
   "cell_type": "code",
   "execution_count": 5,
   "metadata": {},
   "outputs": [
    {
     "name": "stdout",
     "output_type": "stream",
     "text": [
      "(1072, 301, 3)\n",
      "(1172, 401, 3)\n"
     ]
    },
    {
     "data": {
      "text/plain": [
       "True"
      ]
     },
     "execution_count": 5,
     "metadata": {},
     "output_type": "execute_result"
    }
   ],
   "source": [
    "straat_breder_wit = cv2.imread(\"./afbeeldingen/straat_padded.png\")\n",
    "print(straat_breder_wit.shape)\n",
    "\n",
    "# padden\n",
    "npad = ((50, 50), (50, 50), (0,0))\n",
    "straat_breder_wit = np.pad(straat_breder_wit, npad, mode='constant', constant_values=255)\n",
    "print(straat_breder_wit.shape)\n",
    "\n",
    "to_screen(\"straat_breder_wit\", straat_breder_wit)\n",
    "\n",
    "cv2.imwrite(\"./afbeeldingen/straat_padded.png\", straat_breder_wit)\n"
   ]
  }
 ],
 "metadata": {
  "kernelspec": {
   "display_name": "Python 3",
   "language": "python",
   "name": "python3"
  },
  "language_info": {
   "codemirror_mode": {
    "name": "ipython",
    "version": 3
   },
   "file_extension": ".py",
   "mimetype": "text/x-python",
   "name": "python",
   "nbconvert_exporter": "python",
   "pygments_lexer": "ipython3",
   "version": "3.10.6"
  },
  "orig_nbformat": 4
 },
 "nbformat": 4,
 "nbformat_minor": 2
}
